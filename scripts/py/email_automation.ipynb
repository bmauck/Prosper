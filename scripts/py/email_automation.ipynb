{
 "cells": [
  {
   "cell_type": "code",
   "execution_count": 2,
   "metadata": {},
   "outputs": [],
   "source": [
    "import win32com.client as win32\n",
    "outlook = win32.Dispatch('outlook.application')"
   ]
  },
  {
   "cell_type": "code",
   "execution_count": null,
   "metadata": {},
   "outputs": [],
   "source": [
    "mail = outlook.CreateItem(0)\n",
    "mail.To = 'bmauck@prosper.com'\n",
    "mail.Subject = 'Automated Test Email'\n",
    "mail.Body = 'Message body'\n",
    "mail.HTMLBody =  #this field is optional\n",
    "\n",
    "# To attach a file to the email (optional):\n",
    "# attachment  = \"Path to the attachment\"\n",
    "# mail.Attachments.Add(attachment)\n",
    "\n",
    "mail.Send()"
   ]
  }
 ],
 "metadata": {
  "kernelspec": {
   "display_name": "Python 3",
   "language": "python",
   "name": "python3"
  },
  "language_info": {
   "codemirror_mode": {
    "name": "ipython",
    "version": 3
   },
   "file_extension": ".py",
   "mimetype": "text/x-python",
   "name": "python",
   "nbconvert_exporter": "python",
   "pygments_lexer": "ipython3",
   "version": "3.6.6"
  }
 },
 "nbformat": 4,
 "nbformat_minor": 2
}
