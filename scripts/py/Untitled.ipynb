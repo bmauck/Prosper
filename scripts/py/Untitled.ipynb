{
 "cells": [
  {
   "cell_type": "code",
   "execution_count": 1,
   "metadata": {},
   "outputs": [],
   "source": [
    "# -*- coding: utf-8 -*-\n",
    "# -*- author: bmauck -*-"
   ]
  },
  {
   "cell_type": "code",
   "execution_count": 2,
   "metadata": {},
   "outputs": [],
   "source": [
    "import win32com.client as win32\n",
    "import pandas as pd\n",
    "import os"
   ]
  },
  {
   "cell_type": "code",
   "execution_count": 3,
   "metadata": {},
   "outputs": [],
   "source": [
    "outlook = win32.Dispatch('outlook.application')"
   ]
  },
  {
   "cell_type": "code",
   "execution_count": 18,
   "metadata": {},
   "outputs": [],
   "source": [
    "df = pd.read_csv('statement_email_delivery - test.csv', index_col='investor_name')"
   ]
  },
  {
   "cell_type": "code",
   "execution_count": 19,
   "metadata": {},
   "outputs": [
    {
     "data": {
      "text/html": [
       "<div>\n",
       "<style scoped>\n",
       "    .dataframe tbody tr th:only-of-type {\n",
       "        vertical-align: middle;\n",
       "    }\n",
       "\n",
       "    .dataframe tbody tr th {\n",
       "        vertical-align: top;\n",
       "    }\n",
       "\n",
       "    .dataframe thead th {\n",
       "        text-align: right;\n",
       "    }\n",
       "</style>\n",
       "<table border=\"1\" class=\"dataframe\">\n",
       "  <thead>\n",
       "    <tr style=\"text-align: right;\">\n",
       "      <th></th>\n",
       "      <th>recipient_name</th>\n",
       "      <th>email_address</th>\n",
       "      <th>file_path</th>\n",
       "    </tr>\n",
       "    <tr>\n",
       "      <th>investor_name</th>\n",
       "      <th></th>\n",
       "      <th></th>\n",
       "      <th></th>\n",
       "    </tr>\n",
       "  </thead>\n",
       "  <tbody>\n",
       "    <tr>\n",
       "      <th>BBVA</th>\n",
       "      <td>Brian</td>\n",
       "      <td>bmauck@prosper.com</td>\n",
       "      <td>M:\\Lender Services\\Monthly Files Sent to Inves...</td>\n",
       "    </tr>\n",
       "    <tr>\n",
       "      <th>Blue Elephant</th>\n",
       "      <td>Brandon</td>\n",
       "      <td>bmauck@prosper.com</td>\n",
       "      <td>M:\\Lender Services\\Monthly Files Sent to Inves...</td>\n",
       "    </tr>\n",
       "    <tr>\n",
       "      <th>Blue Elephant</th>\n",
       "      <td>Akhil</td>\n",
       "      <td>bmauck@prosper.com</td>\n",
       "      <td>M:\\Lender Services\\Monthly Files Sent to Inves...</td>\n",
       "    </tr>\n",
       "    <tr>\n",
       "      <th>Congressional</th>\n",
       "      <td>John</td>\n",
       "      <td>bmauck@prosper.com</td>\n",
       "      <td>M:\\Lender Services\\Monthly Files Sent to Inves...</td>\n",
       "    </tr>\n",
       "  </tbody>\n",
       "</table>\n",
       "</div>"
      ],
      "text/plain": [
       "              recipient_name       email_address  \\\n",
       "investor_name                                      \n",
       "BBVA                   Brian  bmauck@prosper.com   \n",
       "Blue Elephant        Brandon  bmauck@prosper.com   \n",
       "Blue Elephant          Akhil  bmauck@prosper.com   \n",
       "Congressional           John  bmauck@prosper.com   \n",
       "\n",
       "                                                       file_path  \n",
       "investor_name                                                     \n",
       "BBVA           M:\\Lender Services\\Monthly Files Sent to Inves...  \n",
       "Blue Elephant  M:\\Lender Services\\Monthly Files Sent to Inves...  \n",
       "Blue Elephant  M:\\Lender Services\\Monthly Files Sent to Inves...  \n",
       "Congressional  M:\\Lender Services\\Monthly Files Sent to Inves...  "
      ]
     },
     "execution_count": 19,
     "metadata": {},
     "output_type": "execute_result"
    }
   ],
   "source": [
    "df"
   ]
  },
  {
   "cell_type": "code",
   "execution_count": 20,
   "metadata": {},
   "outputs": [
    {
     "name": "stdout",
     "output_type": "stream",
     "text": [
      "DDA_MULTIPLE_0000625370_4222075970_06302019_1.pdf\n",
      "DDA_MULTIPLE_0000625370_4222076002_06302019_1.pdf\n",
      "DDA_MULTIPLE_0000625370_4222076010_06302019_1.pdf\n",
      "DDA_MULTIPLE_0000625370_4120590609_06302019_1.pdf\n",
      "DDA_MULTIPLE_0000625370_4120590617_06302019_1.pdf\n",
      "DDA_MULTIPLE_0000625370_4120590625_06302019_1.pdf\n",
      "DDA_MULTIPLE_0000625370_4120590609_06302019_1.pdf\n",
      "DDA_MULTIPLE_0000625370_4120590617_06302019_1.pdf\n",
      "DDA_MULTIPLE_0000625370_4120590625_06302019_1.pdf\n",
      "DDA_MULTIPLE_0000625370_4283775146_06302019_1.pdf\n",
      "DDA_MULTIPLE_0000625370_4283775161_06302019_1.pdf\n",
      "DDA_MULTIPLE_0000625370_4283775179_06302019_1.pdf\n"
     ]
    }
   ],
   "source": [
    "for index, row in df.iterrows():\n",
    "    mail = outlook.CreateItem(0)\n",
    "    mail.To = row['email_address']\n",
    "    mail.Subject = '{} Monthly Bank Statements'.format(index)\n",
    "    mail.Body = \"\"\"Hi {}\n",
    "    \n",
    "    This is an automated email, please see your statements attached. \n",
    "    \n",
    "    Does everything look corret? \n",
    "    \n",
    "    Thanks, \n",
    "    \n",
    "    Brian    \n",
    "    \"\"\".format(row['recipient_name'])\n",
    "    for f in os.listdir(row['file_path'].format('201906')):\n",
    "        mail.Attachments"
   ]
  }
 ],
 "metadata": {
  "kernelspec": {
   "display_name": "Python 3",
   "language": "python",
   "name": "python3"
  },
  "language_info": {
   "codemirror_mode": {
    "name": "ipython",
    "version": 3
   },
   "file_extension": ".py",
   "mimetype": "text/x-python",
   "name": "python",
   "nbconvert_exporter": "python",
   "pygments_lexer": "ipython3",
   "version": "3.6.6"
  }
 },
 "nbformat": 4,
 "nbformat_minor": 2
}
