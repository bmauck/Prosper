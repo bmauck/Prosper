{
 "cells": [
  {
   "cell_type": "code",
   "execution_count": 1,
   "metadata": {},
   "outputs": [],
   "source": [
    "import pandas as pd\n",
    "import datetime as dt\n",
    "\n",
    "gbq_prj = 'data-lake-prod-223818'\n",
    "pd.set_option('display.max_columns', 500)\n",
    "\n",
    "if dt.date.today().month == 1:\n",
    "    year = dt.date.today().year-1\n",
    "    month = 12\n",
    "else:\n",
    "    year = dt.date.today().year\n",
    "    month = dt.date.today().month-1\n",
    "\n",
    "if len(str(month)) == 1:\n",
    "    month = str(0) + str(month)\n",
    "else:\n",
    "    month = month\n",
    "\n",
    "date_string = str(year)+str(month)\n",
    "\n",
    "output_file = 'out_files\\\\{}_exhibit_b.xlsx'.format(date_string)\n",
    "\n",
    "terms = df['Term'].unique()\n",
    "ratings = ['AA', 'A', 'B', 'C', 'D', 'E', 'HR']"
   ]
  },
  {
   "cell_type": "code",
   "execution_count": 2,
   "metadata": {},
   "outputs": [],
   "source": [
    "sql = open('sql/get_vintage_data.sql', 'r')\n",
    "sql = sql.read()\n",
    "sql = sql.format(date_string)"
   ]
  },
  {
   "cell_type": "code",
   "execution_count": 4,
   "metadata": {},
   "outputs": [],
   "source": [
    "df = pd.read_gbq(sql, project_id=gbq_prj, dialect='standard')"
   ]
  },
  {
   "cell_type": "code",
   "execution_count": 37,
   "metadata": {},
   "outputs": [],
   "source": [
    "df = df[df['OQ'] >= '2012-01-01']"
   ]
  },
  {
   "cell_type": "code",
   "execution_count": 6,
   "metadata": {},
   "outputs": [],
   "source": [
    "df['Total DQ'] = pd.to_numeric(df['LoanAmount']).values * pd.to_numeric(df['DPD_16']).values\n",
    "df['OQ'] = df['OriginationQuarter'].str[3:].map(str) + df['OriginationQuarter'].str[:2].map(str)"
   ]
  },
  {
   "cell_type": "code",
   "execution_count": 104,
   "metadata": {},
   "outputs": [],
   "source": [
    "df['CDR'] = calc_cdr(df)\n",
    "df['CPR'] = calc_cpr(df)"
   ]
  },
  {
   "cell_type": "code",
   "execution_count": 101,
   "metadata": {},
   "outputs": [],
   "source": [
    "def calc_cdr(df):\n",
    "    smm = (df['CO_Balance'] / df['PrevUPB'])\n",
    "    cdr = 1 - (1 - smm)**12\n",
    "    return pd.to_numeric(cdr)"
   ]
  },
  {
   "cell_type": "code",
   "execution_count": 102,
   "metadata": {},
   "outputs": [],
   "source": [
    "def calc_cpr(df):\n",
    "    smm = (df['FullPaydowns'] + df['VoluntaryExcessPrin']) / (df['PrevUPB'] - df['ScheduledPeriodicPrin'])\n",
    "    cpr = 1 - (1 - smm)**12\n",
    "    return pd.to_numeric(cpr)"
   ]
  },
  {
   "cell_type": "code",
   "execution_count": 49,
   "metadata": {},
   "outputs": [],
   "source": [
    "def numerize_df(df):\n",
    "    for c in df.columns:\n",
    "        try:\n",
    "            df[c] = pd.to_numeric(df[c])\n",
    "        except:\n",
    "            pass\n",
    "    return df"
   ]
  },
  {
   "cell_type": "code",
   "execution_count": 324,
   "metadata": {},
   "outputs": [],
   "source": [
    "def loan_amount(df):\n",
    "    df1 = df[(df['CycleCounter'] == 0)]\n",
    "    df2 = pd.DataFrame(df1.groupby(['OQ'])['LoanAmount'].sum())\n",
    "    df2 = df2.T\n",
    "    return df2"
   ]
  },
  {
   "cell_type": "code",
   "execution_count": 277,
   "metadata": {},
   "outputs": [],
   "source": [
    "def avg_br_rate(writer, df):\n",
    "              \n",
    "    for t in terms:\n",
    "        df1 = df[df['Term'] == t]\n",
    "        df1 = df1.pivot_table(index='OQ'\n",
    "                              ,columns='ProsperRating'\n",
    "                              ,values='AvgBorrowerRate'\n",
    "                              ,aggfunc='max')\n",
    "        df1 = df1.reindex_axis(ratings, axis=1)\n",
    "        if t == 60:\n",
    "            df1 = df1.drop('HR', axis=1)\n",
    "        df1.style.format('{:,.2%}')\n",
    "        df1.to_excel(writer, sheet_name='WTD_AVG_CPN_' + str(t))"
   ]
  },
  {
   "cell_type": "code",
   "execution_count": 315,
   "metadata": {},
   "outputs": [],
   "source": [
    "def max_cumul_loss(writer, df):\n",
    "    \n",
    "    for t in terms:\n",
    "        df1 = df[(df['Term'] == t)]\n",
    "        loan_amt = loan_amount(df1)\n",
    "        pivot1= df1.pivot_table(index='CycleCounter'\n",
    "                                ,columns='OQ'\n",
    "                                ,values='CumulativeGrossLosses'\n",
    "                                ,aggfunc='sum'\n",
    "                                ,fill_value='')\n",
    "        pivot2 = df1.pivot_table(index='CycleCounter'\n",
    "                                ,columns='OQ'\n",
    "                                ,values='LoanAmount'\n",
    "                                ,aggfunc='sum'\n",
    "                                ,fill_value='')\n",
    "        df2 = numerize_df(pivot1).div(numerize_df(pivot2))\n",
    "        df2.fillna('', axis=1, inplace=True)\n",
    "        df2 = pd.concat([loan_amt, df2], sort=True)\n",
    "        df2 = df2.T.set_index(df2.T['LoanAmount'], append=True).drop(['LoanAmount'], axis=1).swaplevel(0,1).T\n",
    "        if not df2.empty:\n",
    "            df2.to_excel(writer, sheet_name='MCL_' + str(t))\n",
    "\n",
    "    for t in terms:\n",
    "        for r in ratings:\n",
    "            df1 = df[(df['Term'] == t) & (df['ProsperRating'] == r)]\n",
    "            loan_amt = loan_amount(df1)\n",
    "            df1 = df1.pivot_table(index='CycleCounter'\n",
    "                                  ,columns='OQ'\n",
    "                                  ,values='CumulativeGrossLossesPct'\n",
    "                                  ,aggfunc='max'\n",
    "                                  ,fill_value='')\n",
    "            df1.fillna('', axis=1, inplace=True)\n",
    "            df1 = pd.concat([loan_amt, df1], sort=True)\n",
    "            df1 = df1.T.set_index(df1.T['LoanAmount'], append=True).drop(['LoanAmount'], axis=1).swaplevel(0,1).T\n",
    "            if not df1.empty:\n",
    "                df1.to_excel(writer, sheet_name='MCL_' + str(r) + str(t))"
   ]
  },
  {
   "cell_type": "code",
   "execution_count": 279,
   "metadata": {},
   "outputs": [],
   "source": [
    "def days_past_due(writer, df):\n",
    "\n",
    "    for t in terms:\n",
    "        df1 = df[(df['Term'] == t)]\n",
    "        loan_amt = loan_amount(df1)\n",
    "        pivot1= df1.pivot_table(index='CycleCounter'\n",
    "                                ,columns='OQ'\n",
    "                                ,values='Total DQ'\n",
    "                                ,aggfunc='sum'\n",
    "                                ,fill_value='')\n",
    "        pivot2 = df1.pivot_table(index='CycleCounter'\n",
    "                                ,columns='OQ'\n",
    "                                ,values='LoanAmount'\n",
    "                                ,aggfunc='sum'\n",
    "                                ,fill_value='')\n",
    "        df2 = numerize_df(pivot1).div(numerize_df(pivot2))\n",
    "        df2.fillna('', axis=1, inplace=True)\n",
    "        df2 = pd.concat([loan_amt, df2], sort=True)\n",
    "        df2 = df2.T.set_index(df2.T['LoanAmount'], append=True).drop(['LoanAmount'], axis=1).swaplevel(0,1).T\n",
    "        if not df2.empty:\n",
    "            df2.to_excel(writer, sheet_name='DPD_' + str(t))\n",
    "\n",
    "    for t in terms:\n",
    "        for r in ratings:\n",
    "            df1 = df[(df['Term'] == t) & (df['ProsperRating'] == r)]\n",
    "            loan_amt = loan_amount(df1)\n",
    "            df1 = df1.pivot_table(index='CycleCounter'\n",
    "                                  ,columns='OQ'\n",
    "                                  ,values='DPD_16'\n",
    "                                  ,aggfunc='max'\n",
    "                                  ,fill_value='')\n",
    "            df1.fillna('', axis=1, inplace=True)\n",
    "            df1 = pd.concat([loan_amt, df1], sort=True)\n",
    "            df1 = df1.T.set_index(df1.T['LoanAmount'], append=True).drop(['LoanAmount'], axis=1).swaplevel(0,1).T\n",
    "            if not df1.empty:\n",
    "                df1.to_excel(writer, sheet_name='DPD_' + str(r) + str(t))"
   ]
  },
  {
   "cell_type": "code",
   "execution_count": 280,
   "metadata": {},
   "outputs": [],
   "source": [
    "def end_prin_bal(writer, df):\n",
    "\n",
    "    for t in terms:\n",
    "        df1 = df[(df['Term'] == t)]\n",
    "        loan_amt = loan_amount(df1)\n",
    "        df1 = df1.pivot_table(index='CycleCounter'\n",
    "                              ,columns='OQ'\n",
    "                              ,values='UPB'\n",
    "                              ,aggfunc='sum'\n",
    "                              ,fill_value='')\n",
    "        df1.fillna('', axis=1, inplace=True)\n",
    "        df1 = pd.concat([loan_amt, df1], sort=True)\n",
    "        df1 = df1.T.set_index(df1.T['LoanAmount'], append=True).drop(['LoanAmount'], axis=1).swaplevel(0,1).T\n",
    "        if not df1.empty:\n",
    "            df1.to_excel(writer, sheet_name='EOP_' + str(t))\n",
    "\n",
    "    for t in terms:\n",
    "        for r in ratings:\n",
    "            df1 = df[(df['Term'] == t) & (df['ProsperRating'] == r)]\n",
    "            loan_amt = loan_amount(df1)\n",
    "            df1 = df1.pivot_table(index='CycleCounter'\n",
    "                                  ,columns='OQ'\n",
    "                                  ,values='UPB'\n",
    "                                  ,aggfunc='sum'\n",
    "                                  ,fill_value='')\n",
    "            df1.fillna('', axis=1, inplace=True)\n",
    "            df1 = pd.concat([loan_amt, df1], sort=True)\n",
    "            df1 = df1.T.set_index(df1.T['LoanAmount'], append=True).drop(['LoanAmount'], axis=1).swaplevel(0,1).T\n",
    "            if not df1.empty:\n",
    "                df1.to_excel(writer, sheet_name='EOP_' + str(r) + str(t))"
   ]
  },
  {
   "cell_type": "code",
   "execution_count": 281,
   "metadata": {},
   "outputs": [],
   "source": [
    "def orig_prin_bal(writer, df):\n",
    "\n",
    "    for t in terms:\n",
    "        df1 = df[df['Term'] == t]\n",
    "        df1 = df1.pivot_table(index='OQ'\n",
    "                              ,columns='ProsperRating'\n",
    "                              ,values='LoanAmount'\n",
    "                              ,aggfunc='max')\n",
    "        df1 = df1.reindex_axis(ratings, axis=1)\n",
    "        if t == 60:\n",
    "            df1 = df1.drop('HR', axis=1)\n",
    "        df1.style.format('${:,.2f}')\n",
    "        df1.to_excel(writer, sheet_name='OPB_' + str(t))"
   ]
  },
  {
   "cell_type": "code",
   "execution_count": 282,
   "metadata": {},
   "outputs": [],
   "source": [
    "def cpr(writer, df):\n",
    "    \n",
    "    for t in terms:\n",
    "        df1 = df[(df['Term'] == t)]\n",
    "        loan_amt= loan_amount(df1)\n",
    "        df1 = df1.pivot_table(index='CycleCounter'\n",
    "                              ,columns='OQ'\n",
    "                              ,values='CPR'\n",
    "                              ,aggfunc='max'\n",
    "                              ,fill_value='')\n",
    "        df1.fillna('', axis=1, inplace=True)\n",
    "        df1 = pd.concat([loan_amt, df1], sort=True)\n",
    "        df1 = df1.T.set_index(df1.T['LoanAmount'], append=True).drop(['LoanAmount'], axis=1).swaplevel(0,1).T\n",
    "        if not df1.empty:\n",
    "            df1.to_excel(writer, sheet_name='CPR_' + str(t))\n",
    "\n",
    "    for t in terms:\n",
    "        for r in ratings:\n",
    "            df1 = df[(df['Term'] == t) & (df['ProsperRating'] == r)]\n",
    "            loan_amt = loan_amount(df1)\n",
    "            df1 = df1.pivot_table(index='CycleCounter'\n",
    "                                  ,columns='OQ'\n",
    "                                  ,values='CPR'\n",
    "                                  ,aggfunc='max'\n",
    "                                  ,fill_value='')\n",
    "            df1.fillna('', axis=1, inplace=True)\n",
    "            df1 = pd.concat([loan_amt, df1], sort=True)\n",
    "            df1 = df1.T.set_index(df1.T['LoanAmount'], append=True).drop(['LoanAmount'], axis=1).swaplevel(0,1).T\n",
    "            if not df1.empty:\n",
    "                df1.to_excel(writer, sheet_name='CPR_' + str(r) + str(t))"
   ]
  },
  {
   "cell_type": "code",
   "execution_count": 283,
   "metadata": {},
   "outputs": [],
   "source": [
    "def cdr(writer, df):\n",
    "    \n",
    "    for t in terms:\n",
    "        df1 = df[(df['Term'] == t)]\n",
    "        loan_amt = loan_amount(df1)\n",
    "        df1 = df1.pivot_table(index='CycleCounter'\n",
    "                              ,columns='OQ'\n",
    "                              ,values='CDR'\n",
    "                              ,aggfunc='max'\n",
    "                              ,fill_value='')\n",
    "        df1.fillna('', axis=1, inplace=True)\n",
    "        df1 = pd.concat([loan_amt, df1], sort=True)\n",
    "        df1 = df1.T.set_index(df1.T['LoanAmount'], append=True).drop(['LoanAmount'], axis=1).swaplevel(0,1).T\n",
    "        df1.to_excel(writer, sheet_name='CDR_' + str(t))\n",
    "        \n",
    "    for t in terms:\n",
    "        for r in ratings:\n",
    "            df1 = df[(df['Term'] == t) & (df['ProsperRating'] == r)]\n",
    "            loan_amt = loan_amount(df1)\n",
    "            df1 = df1.pivot_table(index='CycleCounter'\n",
    "                                  ,columns='OQ'\n",
    "                                  ,values='CDR'\n",
    "                                  ,aggfunc='max'\n",
    "                                  ,fill_value='')\n",
    "            df1.fillna('', axis=1, inplace=True)\n",
    "            df1 = pd.concat([loan_amt, df1], sort=True)\n",
    "            df1 = df1.T.set_index(df1.T['LoanAmount'], append=True).drop(['LoanAmount'], axis=1).swaplevel(0,1).T\n",
    "            \n",
    "            if not df1.empty:\n",
    "                df1.to_excel(writer, sheet_name='CDR_' + str(r) + str(t))"
   ]
  },
  {
   "cell_type": "code",
   "execution_count": 326,
   "metadata": {},
   "outputs": [],
   "source": [
    "def generate_dt_data():\n",
    "    writer = pd.ExcelWriter(output_file, engine='xlsxwriter')\n",
    "    avg_br_rate(writer, df)\n",
    "    max_cumul_loss(writer, df)\n",
    "    days_past_due(writer, df)\n",
    "    end_prin_bal(writer, df)\n",
    "    orig_prin_bal(writer, df)\n",
    "    cpr(writer, df)\n",
    "    cdr(writer, df)\n",
    "    writer.save()"
   ]
  },
  {
   "cell_type": "code",
   "execution_count": 327,
   "metadata": {},
   "outputs": [
    {
     "name": "stderr",
     "output_type": "stream",
     "text": [
      "c:\\users\\bmauck\\appdata\\local\\programs\\python\\python36\\lib\\site-packages\\ipykernel-4.8.2-py3.6.egg\\ipykernel_launcher.py:9: FutureWarning: '.reindex_axis' is deprecated and will be removed in a future version. Use '.reindex' instead.\n",
      "  if __name__ == '__main__':\n"
     ]
    }
   ],
   "source": [
    "generate_dt_data()"
   ]
  }
 ],
 "metadata": {
  "kernelspec": {
   "display_name": "Python 3",
   "language": "python",
   "name": "python3"
  },
  "language_info": {
   "codemirror_mode": {
    "name": "ipython",
    "version": 3
   },
   "file_extension": ".py",
   "mimetype": "text/x-python",
   "name": "python",
   "nbconvert_exporter": "python",
   "pygments_lexer": "ipython3",
   "version": "3.6.6"
  }
 },
 "nbformat": 4,
 "nbformat_minor": 2
}
